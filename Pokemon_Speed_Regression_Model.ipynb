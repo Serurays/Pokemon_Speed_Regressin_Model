{
  "nbformat": 4,
  "nbformat_minor": 0,
  "metadata": {
    "colab": {
      "provenance": [],
      "authorship_tag": "ABX9TyMD5K2iQGHzC7nSH5dwPz+R",
      "include_colab_link": true
    },
    "kernelspec": {
      "name": "python3",
      "display_name": "Python 3"
    },
    "language_info": {
      "name": "python"
    }
  },
  "cells": [
    {
      "cell_type": "markdown",
      "metadata": {
        "id": "view-in-github",
        "colab_type": "text"
      },
      "source": [
        "<a href=\"https://colab.research.google.com/github/Serurays/Pokemon_Speed_Regressin_Model/blob/main/Pokemon_Speed_Regression_Model.ipynb\" target=\"_parent\"><img src=\"https://colab.research.google.com/assets/colab-badge.svg\" alt=\"Open In Colab\"/></a>"
      ]
    },
    {
      "cell_type": "markdown",
      "source": [
        "# **Load the Dataset**"
      ],
      "metadata": {
        "id": "f7U2gjAskyaJ"
      }
    },
    {
      "cell_type": "code",
      "execution_count": null,
      "metadata": {
        "colab": {
          "base_uri": "https://localhost:8080/"
        },
        "id": "WMbknaI8kHaK",
        "outputId": "39b1a256-8c56-402e-f61e-c390ad07cd01"
      },
      "outputs": [
        {
          "output_type": "stream",
          "name": "stdout",
          "text": [
            "Downloading pokemon.zip to /content\n",
            "\r  0% 0.00/14.9k [00:00<?, ?B/s]\n",
            "\r100% 14.9k/14.9k [00:00<00:00, 26.4MB/s]\n",
            "Archive:  pokemon.zip\n",
            "  inflating: Pokemon.csv             \n"
          ]
        }
      ],
      "source": [
        "!mkdir ~/.kaggle\n",
        "!cp kaggle.json ~/.kaggle/\n",
        "!chmod 600 ~/.kaggle/kaggle.json\n",
        "! kaggle datasets download -d abcsds/pokemon\n",
        "!unzip pokemon.zip"
      ]
    },
    {
      "cell_type": "code",
      "source": [
        "import pandas as pd\n",
        "\n",
        "original_df = pd.read_csv(\"Pokemon.csv\")"
      ],
      "metadata": {
        "id": "SLnZ7Nbdkwla"
      },
      "execution_count": null,
      "outputs": []
    },
    {
      "cell_type": "code",
      "source": [
        "original_df.head()"
      ],
      "metadata": {
        "colab": {
          "base_uri": "https://localhost:8080/",
          "height": 241
        },
        "id": "bpPYIvuZlF_E",
        "outputId": "a76f2235-1702-44e3-e67d-2248142aef10"
      },
      "execution_count": null,
      "outputs": [
        {
          "output_type": "execute_result",
          "data": {
            "text/plain": [
              "   #                   Name Type 1  Type 2  Total  HP  Attack  Defense  \\\n",
              "0  1              Bulbasaur  Grass  Poison    318  45      49       49   \n",
              "1  2                Ivysaur  Grass  Poison    405  60      62       63   \n",
              "2  3               Venusaur  Grass  Poison    525  80      82       83   \n",
              "3  3  VenusaurMega Venusaur  Grass  Poison    625  80     100      123   \n",
              "4  4             Charmander   Fire     NaN    309  39      52       43   \n",
              "\n",
              "   Sp. Atk  Sp. Def  Speed  Generation  Legendary  \n",
              "0       65       65     45           1      False  \n",
              "1       80       80     60           1      False  \n",
              "2      100      100     80           1      False  \n",
              "3      122      120     80           1      False  \n",
              "4       60       50     65           1      False  "
            ],
            "text/html": [
              "\n",
              "  <div id=\"df-6128c041-7723-424a-9ca9-da458e59865a\" class=\"colab-df-container\">\n",
              "    <div>\n",
              "<style scoped>\n",
              "    .dataframe tbody tr th:only-of-type {\n",
              "        vertical-align: middle;\n",
              "    }\n",
              "\n",
              "    .dataframe tbody tr th {\n",
              "        vertical-align: top;\n",
              "    }\n",
              "\n",
              "    .dataframe thead th {\n",
              "        text-align: right;\n",
              "    }\n",
              "</style>\n",
              "<table border=\"1\" class=\"dataframe\">\n",
              "  <thead>\n",
              "    <tr style=\"text-align: right;\">\n",
              "      <th></th>\n",
              "      <th>#</th>\n",
              "      <th>Name</th>\n",
              "      <th>Type 1</th>\n",
              "      <th>Type 2</th>\n",
              "      <th>Total</th>\n",
              "      <th>HP</th>\n",
              "      <th>Attack</th>\n",
              "      <th>Defense</th>\n",
              "      <th>Sp. Atk</th>\n",
              "      <th>Sp. Def</th>\n",
              "      <th>Speed</th>\n",
              "      <th>Generation</th>\n",
              "      <th>Legendary</th>\n",
              "    </tr>\n",
              "  </thead>\n",
              "  <tbody>\n",
              "    <tr>\n",
              "      <th>0</th>\n",
              "      <td>1</td>\n",
              "      <td>Bulbasaur</td>\n",
              "      <td>Grass</td>\n",
              "      <td>Poison</td>\n",
              "      <td>318</td>\n",
              "      <td>45</td>\n",
              "      <td>49</td>\n",
              "      <td>49</td>\n",
              "      <td>65</td>\n",
              "      <td>65</td>\n",
              "      <td>45</td>\n",
              "      <td>1</td>\n",
              "      <td>False</td>\n",
              "    </tr>\n",
              "    <tr>\n",
              "      <th>1</th>\n",
              "      <td>2</td>\n",
              "      <td>Ivysaur</td>\n",
              "      <td>Grass</td>\n",
              "      <td>Poison</td>\n",
              "      <td>405</td>\n",
              "      <td>60</td>\n",
              "      <td>62</td>\n",
              "      <td>63</td>\n",
              "      <td>80</td>\n",
              "      <td>80</td>\n",
              "      <td>60</td>\n",
              "      <td>1</td>\n",
              "      <td>False</td>\n",
              "    </tr>\n",
              "    <tr>\n",
              "      <th>2</th>\n",
              "      <td>3</td>\n",
              "      <td>Venusaur</td>\n",
              "      <td>Grass</td>\n",
              "      <td>Poison</td>\n",
              "      <td>525</td>\n",
              "      <td>80</td>\n",
              "      <td>82</td>\n",
              "      <td>83</td>\n",
              "      <td>100</td>\n",
              "      <td>100</td>\n",
              "      <td>80</td>\n",
              "      <td>1</td>\n",
              "      <td>False</td>\n",
              "    </tr>\n",
              "    <tr>\n",
              "      <th>3</th>\n",
              "      <td>3</td>\n",
              "      <td>VenusaurMega Venusaur</td>\n",
              "      <td>Grass</td>\n",
              "      <td>Poison</td>\n",
              "      <td>625</td>\n",
              "      <td>80</td>\n",
              "      <td>100</td>\n",
              "      <td>123</td>\n",
              "      <td>122</td>\n",
              "      <td>120</td>\n",
              "      <td>80</td>\n",
              "      <td>1</td>\n",
              "      <td>False</td>\n",
              "    </tr>\n",
              "    <tr>\n",
              "      <th>4</th>\n",
              "      <td>4</td>\n",
              "      <td>Charmander</td>\n",
              "      <td>Fire</td>\n",
              "      <td>NaN</td>\n",
              "      <td>309</td>\n",
              "      <td>39</td>\n",
              "      <td>52</td>\n",
              "      <td>43</td>\n",
              "      <td>60</td>\n",
              "      <td>50</td>\n",
              "      <td>65</td>\n",
              "      <td>1</td>\n",
              "      <td>False</td>\n",
              "    </tr>\n",
              "  </tbody>\n",
              "</table>\n",
              "</div>\n",
              "    <div class=\"colab-df-buttons\">\n",
              "\n",
              "  <div class=\"colab-df-container\">\n",
              "    <button class=\"colab-df-convert\" onclick=\"convertToInteractive('df-6128c041-7723-424a-9ca9-da458e59865a')\"\n",
              "            title=\"Convert this dataframe to an interactive table.\"\n",
              "            style=\"display:none;\">\n",
              "\n",
              "  <svg xmlns=\"http://www.w3.org/2000/svg\" height=\"24px\" viewBox=\"0 -960 960 960\">\n",
              "    <path d=\"M120-120v-720h720v720H120Zm60-500h600v-160H180v160Zm220 220h160v-160H400v160Zm0 220h160v-160H400v160ZM180-400h160v-160H180v160Zm440 0h160v-160H620v160ZM180-180h160v-160H180v160Zm440 0h160v-160H620v160Z\"/>\n",
              "  </svg>\n",
              "    </button>\n",
              "\n",
              "  <style>\n",
              "    .colab-df-container {\n",
              "      display:flex;\n",
              "      gap: 12px;\n",
              "    }\n",
              "\n",
              "    .colab-df-convert {\n",
              "      background-color: #E8F0FE;\n",
              "      border: none;\n",
              "      border-radius: 50%;\n",
              "      cursor: pointer;\n",
              "      display: none;\n",
              "      fill: #1967D2;\n",
              "      height: 32px;\n",
              "      padding: 0 0 0 0;\n",
              "      width: 32px;\n",
              "    }\n",
              "\n",
              "    .colab-df-convert:hover {\n",
              "      background-color: #E2EBFA;\n",
              "      box-shadow: 0px 1px 2px rgba(60, 64, 67, 0.3), 0px 1px 3px 1px rgba(60, 64, 67, 0.15);\n",
              "      fill: #174EA6;\n",
              "    }\n",
              "\n",
              "    .colab-df-buttons div {\n",
              "      margin-bottom: 4px;\n",
              "    }\n",
              "\n",
              "    [theme=dark] .colab-df-convert {\n",
              "      background-color: #3B4455;\n",
              "      fill: #D2E3FC;\n",
              "    }\n",
              "\n",
              "    [theme=dark] .colab-df-convert:hover {\n",
              "      background-color: #434B5C;\n",
              "      box-shadow: 0px 1px 3px 1px rgba(0, 0, 0, 0.15);\n",
              "      filter: drop-shadow(0px 1px 2px rgba(0, 0, 0, 0.3));\n",
              "      fill: #FFFFFF;\n",
              "    }\n",
              "  </style>\n",
              "\n",
              "    <script>\n",
              "      const buttonEl =\n",
              "        document.querySelector('#df-6128c041-7723-424a-9ca9-da458e59865a button.colab-df-convert');\n",
              "      buttonEl.style.display =\n",
              "        google.colab.kernel.accessAllowed ? 'block' : 'none';\n",
              "\n",
              "      async function convertToInteractive(key) {\n",
              "        const element = document.querySelector('#df-6128c041-7723-424a-9ca9-da458e59865a');\n",
              "        const dataTable =\n",
              "          await google.colab.kernel.invokeFunction('convertToInteractive',\n",
              "                                                    [key], {});\n",
              "        if (!dataTable) return;\n",
              "\n",
              "        const docLinkHtml = 'Like what you see? Visit the ' +\n",
              "          '<a target=\"_blank\" href=https://colab.research.google.com/notebooks/data_table.ipynb>data table notebook</a>'\n",
              "          + ' to learn more about interactive tables.';\n",
              "        element.innerHTML = '';\n",
              "        dataTable['output_type'] = 'display_data';\n",
              "        await google.colab.output.renderOutput(dataTable, element);\n",
              "        const docLink = document.createElement('div');\n",
              "        docLink.innerHTML = docLinkHtml;\n",
              "        element.appendChild(docLink);\n",
              "      }\n",
              "    </script>\n",
              "  </div>\n",
              "\n",
              "\n",
              "<div id=\"df-15f65bc5-14c2-4168-92bf-3439d9970da0\">\n",
              "  <button class=\"colab-df-quickchart\" onclick=\"quickchart('df-15f65bc5-14c2-4168-92bf-3439d9970da0')\"\n",
              "            title=\"Suggest charts\"\n",
              "            style=\"display:none;\">\n",
              "\n",
              "<svg xmlns=\"http://www.w3.org/2000/svg\" height=\"24px\"viewBox=\"0 0 24 24\"\n",
              "     width=\"24px\">\n",
              "    <g>\n",
              "        <path d=\"M19 3H5c-1.1 0-2 .9-2 2v14c0 1.1.9 2 2 2h14c1.1 0 2-.9 2-2V5c0-1.1-.9-2-2-2zM9 17H7v-7h2v7zm4 0h-2V7h2v10zm4 0h-2v-4h2v4z\"/>\n",
              "    </g>\n",
              "</svg>\n",
              "  </button>\n",
              "\n",
              "<style>\n",
              "  .colab-df-quickchart {\n",
              "      --bg-color: #E8F0FE;\n",
              "      --fill-color: #1967D2;\n",
              "      --hover-bg-color: #E2EBFA;\n",
              "      --hover-fill-color: #174EA6;\n",
              "      --disabled-fill-color: #AAA;\n",
              "      --disabled-bg-color: #DDD;\n",
              "  }\n",
              "\n",
              "  [theme=dark] .colab-df-quickchart {\n",
              "      --bg-color: #3B4455;\n",
              "      --fill-color: #D2E3FC;\n",
              "      --hover-bg-color: #434B5C;\n",
              "      --hover-fill-color: #FFFFFF;\n",
              "      --disabled-bg-color: #3B4455;\n",
              "      --disabled-fill-color: #666;\n",
              "  }\n",
              "\n",
              "  .colab-df-quickchart {\n",
              "    background-color: var(--bg-color);\n",
              "    border: none;\n",
              "    border-radius: 50%;\n",
              "    cursor: pointer;\n",
              "    display: none;\n",
              "    fill: var(--fill-color);\n",
              "    height: 32px;\n",
              "    padding: 0;\n",
              "    width: 32px;\n",
              "  }\n",
              "\n",
              "  .colab-df-quickchart:hover {\n",
              "    background-color: var(--hover-bg-color);\n",
              "    box-shadow: 0 1px 2px rgba(60, 64, 67, 0.3), 0 1px 3px 1px rgba(60, 64, 67, 0.15);\n",
              "    fill: var(--button-hover-fill-color);\n",
              "  }\n",
              "\n",
              "  .colab-df-quickchart-complete:disabled,\n",
              "  .colab-df-quickchart-complete:disabled:hover {\n",
              "    background-color: var(--disabled-bg-color);\n",
              "    fill: var(--disabled-fill-color);\n",
              "    box-shadow: none;\n",
              "  }\n",
              "\n",
              "  .colab-df-spinner {\n",
              "    border: 2px solid var(--fill-color);\n",
              "    border-color: transparent;\n",
              "    border-bottom-color: var(--fill-color);\n",
              "    animation:\n",
              "      spin 1s steps(1) infinite;\n",
              "  }\n",
              "\n",
              "  @keyframes spin {\n",
              "    0% {\n",
              "      border-color: transparent;\n",
              "      border-bottom-color: var(--fill-color);\n",
              "      border-left-color: var(--fill-color);\n",
              "    }\n",
              "    20% {\n",
              "      border-color: transparent;\n",
              "      border-left-color: var(--fill-color);\n",
              "      border-top-color: var(--fill-color);\n",
              "    }\n",
              "    30% {\n",
              "      border-color: transparent;\n",
              "      border-left-color: var(--fill-color);\n",
              "      border-top-color: var(--fill-color);\n",
              "      border-right-color: var(--fill-color);\n",
              "    }\n",
              "    40% {\n",
              "      border-color: transparent;\n",
              "      border-right-color: var(--fill-color);\n",
              "      border-top-color: var(--fill-color);\n",
              "    }\n",
              "    60% {\n",
              "      border-color: transparent;\n",
              "      border-right-color: var(--fill-color);\n",
              "    }\n",
              "    80% {\n",
              "      border-color: transparent;\n",
              "      border-right-color: var(--fill-color);\n",
              "      border-bottom-color: var(--fill-color);\n",
              "    }\n",
              "    90% {\n",
              "      border-color: transparent;\n",
              "      border-bottom-color: var(--fill-color);\n",
              "    }\n",
              "  }\n",
              "</style>\n",
              "\n",
              "  <script>\n",
              "    async function quickchart(key) {\n",
              "      const quickchartButtonEl =\n",
              "        document.querySelector('#' + key + ' button');\n",
              "      quickchartButtonEl.disabled = true;  // To prevent multiple clicks.\n",
              "      quickchartButtonEl.classList.add('colab-df-spinner');\n",
              "      try {\n",
              "        const charts = await google.colab.kernel.invokeFunction(\n",
              "            'suggestCharts', [key], {});\n",
              "      } catch (error) {\n",
              "        console.error('Error during call to suggestCharts:', error);\n",
              "      }\n",
              "      quickchartButtonEl.classList.remove('colab-df-spinner');\n",
              "      quickchartButtonEl.classList.add('colab-df-quickchart-complete');\n",
              "    }\n",
              "    (() => {\n",
              "      let quickchartButtonEl =\n",
              "        document.querySelector('#df-15f65bc5-14c2-4168-92bf-3439d9970da0 button');\n",
              "      quickchartButtonEl.style.display =\n",
              "        google.colab.kernel.accessAllowed ? 'block' : 'none';\n",
              "    })();\n",
              "  </script>\n",
              "</div>\n",
              "    </div>\n",
              "  </div>\n"
            ]
          },
          "metadata": {},
          "execution_count": 3
        }
      ]
    },
    {
      "cell_type": "markdown",
      "source": [
        "# **Select Features**"
      ],
      "metadata": {
        "id": "f9Lz4SVGk52K"
      }
    },
    {
      "cell_type": "code",
      "source": [
        "modified_df = original_df[['HP', 'Attack', 'Defense', 'Sp. Atk', 'Sp. Def', 'Speed']]\n",
        "\n",
        "modified_df.head()"
      ],
      "metadata": {
        "colab": {
          "base_uri": "https://localhost:8080/",
          "height": 206
        },
        "id": "wemL6P1PlKNL",
        "outputId": "09c70305-99b8-4e1d-810d-1bac37486a50"
      },
      "execution_count": null,
      "outputs": [
        {
          "output_type": "execute_result",
          "data": {
            "text/plain": [
              "   HP  Attack  Defense  Sp. Atk  Sp. Def  Speed\n",
              "0  45      49       49       65       65     45\n",
              "1  60      62       63       80       80     60\n",
              "2  80      82       83      100      100     80\n",
              "3  80     100      123      122      120     80\n",
              "4  39      52       43       60       50     65"
            ],
            "text/html": [
              "\n",
              "  <div id=\"df-dcbd0e3b-9f46-49e8-886b-e5a5e901c763\" class=\"colab-df-container\">\n",
              "    <div>\n",
              "<style scoped>\n",
              "    .dataframe tbody tr th:only-of-type {\n",
              "        vertical-align: middle;\n",
              "    }\n",
              "\n",
              "    .dataframe tbody tr th {\n",
              "        vertical-align: top;\n",
              "    }\n",
              "\n",
              "    .dataframe thead th {\n",
              "        text-align: right;\n",
              "    }\n",
              "</style>\n",
              "<table border=\"1\" class=\"dataframe\">\n",
              "  <thead>\n",
              "    <tr style=\"text-align: right;\">\n",
              "      <th></th>\n",
              "      <th>HP</th>\n",
              "      <th>Attack</th>\n",
              "      <th>Defense</th>\n",
              "      <th>Sp. Atk</th>\n",
              "      <th>Sp. Def</th>\n",
              "      <th>Speed</th>\n",
              "    </tr>\n",
              "  </thead>\n",
              "  <tbody>\n",
              "    <tr>\n",
              "      <th>0</th>\n",
              "      <td>45</td>\n",
              "      <td>49</td>\n",
              "      <td>49</td>\n",
              "      <td>65</td>\n",
              "      <td>65</td>\n",
              "      <td>45</td>\n",
              "    </tr>\n",
              "    <tr>\n",
              "      <th>1</th>\n",
              "      <td>60</td>\n",
              "      <td>62</td>\n",
              "      <td>63</td>\n",
              "      <td>80</td>\n",
              "      <td>80</td>\n",
              "      <td>60</td>\n",
              "    </tr>\n",
              "    <tr>\n",
              "      <th>2</th>\n",
              "      <td>80</td>\n",
              "      <td>82</td>\n",
              "      <td>83</td>\n",
              "      <td>100</td>\n",
              "      <td>100</td>\n",
              "      <td>80</td>\n",
              "    </tr>\n",
              "    <tr>\n",
              "      <th>3</th>\n",
              "      <td>80</td>\n",
              "      <td>100</td>\n",
              "      <td>123</td>\n",
              "      <td>122</td>\n",
              "      <td>120</td>\n",
              "      <td>80</td>\n",
              "    </tr>\n",
              "    <tr>\n",
              "      <th>4</th>\n",
              "      <td>39</td>\n",
              "      <td>52</td>\n",
              "      <td>43</td>\n",
              "      <td>60</td>\n",
              "      <td>50</td>\n",
              "      <td>65</td>\n",
              "    </tr>\n",
              "  </tbody>\n",
              "</table>\n",
              "</div>\n",
              "    <div class=\"colab-df-buttons\">\n",
              "\n",
              "  <div class=\"colab-df-container\">\n",
              "    <button class=\"colab-df-convert\" onclick=\"convertToInteractive('df-dcbd0e3b-9f46-49e8-886b-e5a5e901c763')\"\n",
              "            title=\"Convert this dataframe to an interactive table.\"\n",
              "            style=\"display:none;\">\n",
              "\n",
              "  <svg xmlns=\"http://www.w3.org/2000/svg\" height=\"24px\" viewBox=\"0 -960 960 960\">\n",
              "    <path d=\"M120-120v-720h720v720H120Zm60-500h600v-160H180v160Zm220 220h160v-160H400v160Zm0 220h160v-160H400v160ZM180-400h160v-160H180v160Zm440 0h160v-160H620v160ZM180-180h160v-160H180v160Zm440 0h160v-160H620v160Z\"/>\n",
              "  </svg>\n",
              "    </button>\n",
              "\n",
              "  <style>\n",
              "    .colab-df-container {\n",
              "      display:flex;\n",
              "      gap: 12px;\n",
              "    }\n",
              "\n",
              "    .colab-df-convert {\n",
              "      background-color: #E8F0FE;\n",
              "      border: none;\n",
              "      border-radius: 50%;\n",
              "      cursor: pointer;\n",
              "      display: none;\n",
              "      fill: #1967D2;\n",
              "      height: 32px;\n",
              "      padding: 0 0 0 0;\n",
              "      width: 32px;\n",
              "    }\n",
              "\n",
              "    .colab-df-convert:hover {\n",
              "      background-color: #E2EBFA;\n",
              "      box-shadow: 0px 1px 2px rgba(60, 64, 67, 0.3), 0px 1px 3px 1px rgba(60, 64, 67, 0.15);\n",
              "      fill: #174EA6;\n",
              "    }\n",
              "\n",
              "    .colab-df-buttons div {\n",
              "      margin-bottom: 4px;\n",
              "    }\n",
              "\n",
              "    [theme=dark] .colab-df-convert {\n",
              "      background-color: #3B4455;\n",
              "      fill: #D2E3FC;\n",
              "    }\n",
              "\n",
              "    [theme=dark] .colab-df-convert:hover {\n",
              "      background-color: #434B5C;\n",
              "      box-shadow: 0px 1px 3px 1px rgba(0, 0, 0, 0.15);\n",
              "      filter: drop-shadow(0px 1px 2px rgba(0, 0, 0, 0.3));\n",
              "      fill: #FFFFFF;\n",
              "    }\n",
              "  </style>\n",
              "\n",
              "    <script>\n",
              "      const buttonEl =\n",
              "        document.querySelector('#df-dcbd0e3b-9f46-49e8-886b-e5a5e901c763 button.colab-df-convert');\n",
              "      buttonEl.style.display =\n",
              "        google.colab.kernel.accessAllowed ? 'block' : 'none';\n",
              "\n",
              "      async function convertToInteractive(key) {\n",
              "        const element = document.querySelector('#df-dcbd0e3b-9f46-49e8-886b-e5a5e901c763');\n",
              "        const dataTable =\n",
              "          await google.colab.kernel.invokeFunction('convertToInteractive',\n",
              "                                                    [key], {});\n",
              "        if (!dataTable) return;\n",
              "\n",
              "        const docLinkHtml = 'Like what you see? Visit the ' +\n",
              "          '<a target=\"_blank\" href=https://colab.research.google.com/notebooks/data_table.ipynb>data table notebook</a>'\n",
              "          + ' to learn more about interactive tables.';\n",
              "        element.innerHTML = '';\n",
              "        dataTable['output_type'] = 'display_data';\n",
              "        await google.colab.output.renderOutput(dataTable, element);\n",
              "        const docLink = document.createElement('div');\n",
              "        docLink.innerHTML = docLinkHtml;\n",
              "        element.appendChild(docLink);\n",
              "      }\n",
              "    </script>\n",
              "  </div>\n",
              "\n",
              "\n",
              "<div id=\"df-4d4051f8-dbc2-455d-b0d0-b76ece5e78f6\">\n",
              "  <button class=\"colab-df-quickchart\" onclick=\"quickchart('df-4d4051f8-dbc2-455d-b0d0-b76ece5e78f6')\"\n",
              "            title=\"Suggest charts\"\n",
              "            style=\"display:none;\">\n",
              "\n",
              "<svg xmlns=\"http://www.w3.org/2000/svg\" height=\"24px\"viewBox=\"0 0 24 24\"\n",
              "     width=\"24px\">\n",
              "    <g>\n",
              "        <path d=\"M19 3H5c-1.1 0-2 .9-2 2v14c0 1.1.9 2 2 2h14c1.1 0 2-.9 2-2V5c0-1.1-.9-2-2-2zM9 17H7v-7h2v7zm4 0h-2V7h2v10zm4 0h-2v-4h2v4z\"/>\n",
              "    </g>\n",
              "</svg>\n",
              "  </button>\n",
              "\n",
              "<style>\n",
              "  .colab-df-quickchart {\n",
              "      --bg-color: #E8F0FE;\n",
              "      --fill-color: #1967D2;\n",
              "      --hover-bg-color: #E2EBFA;\n",
              "      --hover-fill-color: #174EA6;\n",
              "      --disabled-fill-color: #AAA;\n",
              "      --disabled-bg-color: #DDD;\n",
              "  }\n",
              "\n",
              "  [theme=dark] .colab-df-quickchart {\n",
              "      --bg-color: #3B4455;\n",
              "      --fill-color: #D2E3FC;\n",
              "      --hover-bg-color: #434B5C;\n",
              "      --hover-fill-color: #FFFFFF;\n",
              "      --disabled-bg-color: #3B4455;\n",
              "      --disabled-fill-color: #666;\n",
              "  }\n",
              "\n",
              "  .colab-df-quickchart {\n",
              "    background-color: var(--bg-color);\n",
              "    border: none;\n",
              "    border-radius: 50%;\n",
              "    cursor: pointer;\n",
              "    display: none;\n",
              "    fill: var(--fill-color);\n",
              "    height: 32px;\n",
              "    padding: 0;\n",
              "    width: 32px;\n",
              "  }\n",
              "\n",
              "  .colab-df-quickchart:hover {\n",
              "    background-color: var(--hover-bg-color);\n",
              "    box-shadow: 0 1px 2px rgba(60, 64, 67, 0.3), 0 1px 3px 1px rgba(60, 64, 67, 0.15);\n",
              "    fill: var(--button-hover-fill-color);\n",
              "  }\n",
              "\n",
              "  .colab-df-quickchart-complete:disabled,\n",
              "  .colab-df-quickchart-complete:disabled:hover {\n",
              "    background-color: var(--disabled-bg-color);\n",
              "    fill: var(--disabled-fill-color);\n",
              "    box-shadow: none;\n",
              "  }\n",
              "\n",
              "  .colab-df-spinner {\n",
              "    border: 2px solid var(--fill-color);\n",
              "    border-color: transparent;\n",
              "    border-bottom-color: var(--fill-color);\n",
              "    animation:\n",
              "      spin 1s steps(1) infinite;\n",
              "  }\n",
              "\n",
              "  @keyframes spin {\n",
              "    0% {\n",
              "      border-color: transparent;\n",
              "      border-bottom-color: var(--fill-color);\n",
              "      border-left-color: var(--fill-color);\n",
              "    }\n",
              "    20% {\n",
              "      border-color: transparent;\n",
              "      border-left-color: var(--fill-color);\n",
              "      border-top-color: var(--fill-color);\n",
              "    }\n",
              "    30% {\n",
              "      border-color: transparent;\n",
              "      border-left-color: var(--fill-color);\n",
              "      border-top-color: var(--fill-color);\n",
              "      border-right-color: var(--fill-color);\n",
              "    }\n",
              "    40% {\n",
              "      border-color: transparent;\n",
              "      border-right-color: var(--fill-color);\n",
              "      border-top-color: var(--fill-color);\n",
              "    }\n",
              "    60% {\n",
              "      border-color: transparent;\n",
              "      border-right-color: var(--fill-color);\n",
              "    }\n",
              "    80% {\n",
              "      border-color: transparent;\n",
              "      border-right-color: var(--fill-color);\n",
              "      border-bottom-color: var(--fill-color);\n",
              "    }\n",
              "    90% {\n",
              "      border-color: transparent;\n",
              "      border-bottom-color: var(--fill-color);\n",
              "    }\n",
              "  }\n",
              "</style>\n",
              "\n",
              "  <script>\n",
              "    async function quickchart(key) {\n",
              "      const quickchartButtonEl =\n",
              "        document.querySelector('#' + key + ' button');\n",
              "      quickchartButtonEl.disabled = true;  // To prevent multiple clicks.\n",
              "      quickchartButtonEl.classList.add('colab-df-spinner');\n",
              "      try {\n",
              "        const charts = await google.colab.kernel.invokeFunction(\n",
              "            'suggestCharts', [key], {});\n",
              "      } catch (error) {\n",
              "        console.error('Error during call to suggestCharts:', error);\n",
              "      }\n",
              "      quickchartButtonEl.classList.remove('colab-df-spinner');\n",
              "      quickchartButtonEl.classList.add('colab-df-quickchart-complete');\n",
              "    }\n",
              "    (() => {\n",
              "      let quickchartButtonEl =\n",
              "        document.querySelector('#df-4d4051f8-dbc2-455d-b0d0-b76ece5e78f6 button');\n",
              "      quickchartButtonEl.style.display =\n",
              "        google.colab.kernel.accessAllowed ? 'block' : 'none';\n",
              "    })();\n",
              "  </script>\n",
              "</div>\n",
              "    </div>\n",
              "  </div>\n"
            ]
          },
          "metadata": {},
          "execution_count": 5
        }
      ]
    },
    {
      "cell_type": "markdown",
      "source": [
        "# **Split into 3 Partitions: Train, Val, Test**"
      ],
      "metadata": {
        "id": "DGYqhePklwwM"
      }
    },
    {
      "cell_type": "code",
      "source": [
        "shuffled_df = modified_df.sample(frac=1)\n",
        "\n",
        "train_df = shuffled_df[:500]\n",
        "val_df = shuffled_df[500:650]\n",
        "test_df = shuffled_df[650:]"
      ],
      "metadata": {
        "id": "LUCfADcclmNa"
      },
      "execution_count": null,
      "outputs": []
    },
    {
      "cell_type": "code",
      "source": [
        "len(train_df), len(val_df), len(test_df)"
      ],
      "metadata": {
        "colab": {
          "base_uri": "https://localhost:8080/"
        },
        "id": "d8_KAOIYmyY1",
        "outputId": "edaa1a0b-536c-43db-b880-ca3591cfb2da"
      },
      "execution_count": null,
      "outputs": [
        {
          "output_type": "execute_result",
          "data": {
            "text/plain": [
              "(500, 150, 150)"
            ]
          },
          "metadata": {},
          "execution_count": 7
        }
      ]
    },
    {
      "cell_type": "code",
      "source": [
        "X_train, y_train = train_df.to_numpy()[:, :-1], train_df.to_numpy()[:, -1]"
      ],
      "metadata": {
        "id": "tCY5cZPVnVvX"
      },
      "execution_count": null,
      "outputs": []
    },
    {
      "cell_type": "code",
      "source": [
        "X_val, y_val = val_df.to_numpy()[:, :-1], val_df.to_numpy()[:, -1]"
      ],
      "metadata": {
        "id": "Iz54eZQ7nkaF"
      },
      "execution_count": null,
      "outputs": []
    },
    {
      "cell_type": "code",
      "source": [
        "X_test, y_test = test_df.to_numpy()[:, :-1], test_df.to_numpy()[:, -1]"
      ],
      "metadata": {
        "id": "B9Y6xcV8nkxn"
      },
      "execution_count": null,
      "outputs": []
    },
    {
      "cell_type": "code",
      "source": [
        "(X_train.shape, y_train.shape), (X_val.shape, y_val.shape), (X_test.shape, y_test.shape)"
      ],
      "metadata": {
        "colab": {
          "base_uri": "https://localhost:8080/"
        },
        "id": "lR42YBpYn7A8",
        "outputId": "c5568db6-1876-4dcf-8c92-5eb0cb3b98e6"
      },
      "execution_count": null,
      "outputs": [
        {
          "output_type": "execute_result",
          "data": {
            "text/plain": [
              "(((500, 5), (500,)), ((150, 5), (150,)), ((150, 5), (150,)))"
            ]
          },
          "metadata": {},
          "execution_count": 11
        }
      ]
    },
    {
      "cell_type": "markdown",
      "source": [
        "# **Preprocess the Inputs**"
      ],
      "metadata": {
        "id": "zTkxwOGpnPpO"
      }
    },
    {
      "cell_type": "code",
      "source": [
        "from sklearn.preprocessing import MinMaxScaler\n",
        "\n",
        "scaler = MinMaxScaler().fit(X_train)\n",
        "\n",
        "X_train_scaled, X_val_scaled, X_test_scaled = scaler.transform(X_train), scaler.transform(X_val), scaler.transform(X_test)\n",
        "\n",
        "pd.DataFrame(X_train_scaled).hist()"
      ],
      "metadata": {
        "colab": {
          "base_uri": "https://localhost:8080/",
          "height": 504
        },
        "id": "IE6Z1vUGnj0Z",
        "outputId": "cd32bd4f-f615-4378-9798-94849e97d5fa"
      },
      "execution_count": null,
      "outputs": [
        {
          "output_type": "execute_result",
          "data": {
            "text/plain": [
              "array([[<Axes: title={'center': '0'}>, <Axes: title={'center': '1'}>],\n",
              "       [<Axes: title={'center': '2'}>, <Axes: title={'center': '3'}>],\n",
              "       [<Axes: title={'center': '4'}>, <Axes: >]], dtype=object)"
            ]
          },
          "metadata": {},
          "execution_count": 13
        },
        {
          "output_type": "display_data",
          "data": {
            "text/plain": [
              "<Figure size 640x480 with 6 Axes>"
            ],
            "image/png": "[encoded data removed]"
          },
          "metadata": {}
        }
      ]
    },
    {
      "cell_type": "markdown",
      "source": [
        "# **Pick the Best Model w/ Lowest Validation Error**"
      ],
      "metadata": {
        "id": "FSUarD3HpkxK"
      }
    },
    {
      "cell_type": "code",
      "source": [
        "from sklearn.metrics import mean_absolute_error\n",
        "\n",
        "average_speed = y_train.mean()\n",
        "average_speed"
      ],
      "metadata": {
        "colab": {
          "base_uri": "https://localhost:8080/"
        },
        "id": "u-K_y2FlnGsR",
        "outputId": "2ad1c2ac-f9bb-416a-ebb5-bee81fe6cfdc"
      },
      "execution_count": null,
      "outputs": [
        {
          "output_type": "execute_result",
          "data": {
            "text/plain": [
              "67.406"
            ]
          },
          "metadata": {},
          "execution_count": 16
        }
      ]
    },
    {
      "cell_type": "code",
      "source": [
        "mean_absolute_error(y_val, [average_speed] * len(y_val))"
      ],
      "metadata": {
        "colab": {
          "base_uri": "https://localhost:8080/"
        },
        "id": "nZ0WUy0QqBq_",
        "outputId": "7865f93d-0d38-423b-dfd6-77418191cb27"
      },
      "execution_count": null,
      "outputs": [
        {
          "output_type": "execute_result",
          "data": {
            "text/plain": [
              "25.275840000000002"
            ]
          },
          "metadata": {},
          "execution_count": 17
        }
      ]
    },
    {
      "cell_type": "code",
      "source": [
        "from sklearn.linear_model import LinearRegression\n",
        "\n",
        "linear_model = LinearRegression().fit(X_train, y_train)\n",
        "\n",
        "mean_absolute_error(y_val, linear_model.predict(X_val))"
      ],
      "metadata": {
        "colab": {
          "base_uri": "https://localhost:8080/"
        },
        "id": "KeZZi6u-qqk-",
        "outputId": "a7b89df5-1321-4819-fc22-e52d163bd82a"
      },
      "execution_count": null,
      "outputs": [
        {
          "output_type": "execute_result",
          "data": {
            "text/plain": [
              "20.179159218838663"
            ]
          },
          "metadata": {},
          "execution_count": 18
        }
      ]
    },
    {
      "cell_type": "code",
      "source": [
        "from sklearn.ensemble import RandomForestRegressor\n",
        "\n",
        "random_forest = RandomForestRegressor().fit(X_train, y_train)\n",
        "\n",
        "mean_absolute_error(y_val, random_forest.predict(X_val))"
      ],
      "metadata": {
        "colab": {
          "base_uri": "https://localhost:8080/"
        },
        "id": "rKQ_Hbbhq4Is",
        "outputId": "b36ce58e-5471-4f06-af91-047564e93f10"
      },
      "execution_count": null,
      "outputs": [
        {
          "output_type": "execute_result",
          "data": {
            "text/plain": [
              "19.224072222222222"
            ]
          },
          "metadata": {},
          "execution_count": 24
        }
      ]
    },
    {
      "cell_type": "code",
      "source": [
        "from tensorflow.keras import layers\n",
        "from tensorflow.keras.models import Sequential\n",
        "\n",
        "from tensorflow.keras.optimizers import Adam\n",
        "\n",
        "model_1 = Sequential([layers.Input((5,)),\n",
        "                      layers.Dense(1)])\n",
        "\n",
        "model_1.compile(loss='mse', optimizer=Adam(learning_rate=0.01), metrics=['mean_absolute_error'])\n",
        "\n",
        "model_1.fit(x=X_train, y=y_train, validation_data=(X_val, y_val), epochs=100)"
      ],
      "metadata": {
        "colab": {
          "base_uri": "https://localhost:8080/"
        },
        "id": "jduSwyLkrSvY",
        "outputId": "812c7120-0e15-4bac-bcbb-b0556da74d9d"
      },
      "execution_count": null,
      "outputs": [
        {
          "output_type": "stream",
          "name": "stdout",
          "text": [
            "Epoch 1/100\n",
            "16/16 [==============================] - 1s 19ms/step - loss: 1897.8873 - mean_absolute_error: 33.9228 - val_loss: 1247.3588 - val_mean_absolute_error: 27.6207\n",
            "Epoch 2/100\n",
            "16/16 [==============================] - 0s 6ms/step - loss: 1485.6028 - mean_absolute_error: 28.9508 - val_loss: 1154.0337 - val_mean_absolute_error: 26.5908\n",
            "Epoch 3/100\n",
            "16/16 [==============================] - 0s 6ms/step - loss: 1292.6116 - mean_absolute_error: 27.7110 - val_loss: 1056.3782 - val_mean_absolute_error: 25.4674\n",
            "Epoch 4/100\n",
            "16/16 [==============================] - 0s 5ms/step - loss: 1157.3037 - mean_absolute_error: 26.1015 - val_loss: 940.0399 - val_mean_absolute_error: 24.2677\n",
            "Epoch 5/100\n",
            "16/16 [==============================] - 0s 5ms/step - loss: 1029.4796 - mean_absolute_error: 24.8785 - val_loss: 898.4042 - val_mean_absolute_error: 23.7168\n",
            "Epoch 6/100\n",
            "16/16 [==============================] - 0s 9ms/step - loss: 928.4615 - mean_absolute_error: 23.8144 - val_loss: 825.5845 - val_mean_absolute_error: 22.9318\n",
            "Epoch 7/100\n",
            "16/16 [==============================] - 0s 5ms/step - loss: 852.9872 - mean_absolute_error: 22.8842 - val_loss: 775.3225 - val_mean_absolute_error: 22.3925\n",
            "Epoch 8/100\n",
            "16/16 [==============================] - 0s 5ms/step - loss: 787.2029 - mean_absolute_error: 22.0727 - val_loss: 760.8520 - val_mean_absolute_error: 22.0826\n",
            "Epoch 9/100\n",
            "16/16 [==============================] - 0s 6ms/step - loss: 743.4683 - mean_absolute_error: 21.5350 - val_loss: 732.9254 - val_mean_absolute_error: 21.7246\n",
            "Epoch 10/100\n",
            "16/16 [==============================] - 0s 5ms/step - loss: 706.2308 - mean_absolute_error: 21.0883 - val_loss: 720.2528 - val_mean_absolute_error: 21.4826\n",
            "Epoch 11/100\n",
            "16/16 [==============================] - 0s 5ms/step - loss: 691.2338 - mean_absolute_error: 20.8702 - val_loss: 707.3682 - val_mean_absolute_error: 21.2975\n",
            "Epoch 12/100\n",
            "16/16 [==============================] - 0s 5ms/step - loss: 668.4647 - mean_absolute_error: 20.5824 - val_loss: 706.3937 - val_mean_absolute_error: 21.2295\n",
            "Epoch 13/100\n",
            "16/16 [==============================] - 0s 6ms/step - loss: 665.0486 - mean_absolute_error: 20.5615 - val_loss: 702.1753 - val_mean_absolute_error: 21.0887\n",
            "Epoch 14/100\n",
            "16/16 [==============================] - 0s 6ms/step - loss: 653.2703 - mean_absolute_error: 20.4213 - val_loss: 713.5353 - val_mean_absolute_error: 21.1794\n",
            "Epoch 15/100\n",
            "16/16 [==============================] - 0s 6ms/step - loss: 637.0941 - mean_absolute_error: 20.0867 - val_loss: 703.5576 - val_mean_absolute_error: 20.9697\n",
            "Epoch 16/100\n",
            "16/16 [==============================] - 0s 5ms/step - loss: 634.6652 - mean_absolute_error: 20.0875 - val_loss: 708.8642 - val_mean_absolute_error: 21.0028\n",
            "Epoch 17/100\n",
            "16/16 [==============================] - 0s 7ms/step - loss: 631.4549 - mean_absolute_error: 20.0056 - val_loss: 707.7789 - val_mean_absolute_error: 20.9171\n",
            "Epoch 18/100\n",
            "16/16 [==============================] - 0s 5ms/step - loss: 632.8016 - mean_absolute_error: 20.1000 - val_loss: 714.6390 - val_mean_absolute_error: 20.9896\n",
            "Epoch 19/100\n",
            "16/16 [==============================] - 0s 5ms/step - loss: 628.9116 - mean_absolute_error: 19.9937 - val_loss: 709.8103 - val_mean_absolute_error: 20.8620\n",
            "Epoch 20/100\n",
            "16/16 [==============================] - 0s 6ms/step - loss: 629.7401 - mean_absolute_error: 19.9475 - val_loss: 720.4881 - val_mean_absolute_error: 20.9954\n",
            "Epoch 21/100\n",
            "16/16 [==============================] - 0s 5ms/step - loss: 625.5210 - mean_absolute_error: 19.9599 - val_loss: 713.6725 - val_mean_absolute_error: 20.8434\n",
            "Epoch 22/100\n",
            "16/16 [==============================] - 0s 5ms/step - loss: 628.1261 - mean_absolute_error: 20.0101 - val_loss: 721.7590 - val_mean_absolute_error: 20.9780\n",
            "Epoch 23/100\n",
            "16/16 [==============================] - 0s 5ms/step - loss: 621.9337 - mean_absolute_error: 19.8956 - val_loss: 714.7708 - val_mean_absolute_error: 20.8185\n",
            "Epoch 24/100\n",
            "16/16 [==============================] - 0s 7ms/step - loss: 627.0037 - mean_absolute_error: 19.9843 - val_loss: 718.1275 - val_mean_absolute_error: 20.8951\n",
            "Epoch 25/100\n",
            "16/16 [==============================] - 0s 6ms/step - loss: 622.7888 - mean_absolute_error: 19.8959 - val_loss: 715.0263 - val_mean_absolute_error: 20.8161\n",
            "Epoch 26/100\n",
            "16/16 [==============================] - 0s 5ms/step - loss: 638.4000 - mean_absolute_error: 20.2978 - val_loss: 727.6478 - val_mean_absolute_error: 21.0583\n",
            "Epoch 27/100\n",
            "16/16 [==============================] - 0s 5ms/step - loss: 623.2233 - mean_absolute_error: 19.8645 - val_loss: 722.5920 - val_mean_absolute_error: 20.8729\n",
            "Epoch 28/100\n",
            "16/16 [==============================] - 0s 9ms/step - loss: 623.1570 - mean_absolute_error: 19.9761 - val_loss: 725.8145 - val_mean_absolute_error: 21.0135\n",
            "Epoch 29/100\n",
            "16/16 [==============================] - 0s 6ms/step - loss: 624.4678 - mean_absolute_error: 19.9392 - val_loss: 715.5347 - val_mean_absolute_error: 20.8047\n",
            "Epoch 30/100\n",
            "16/16 [==============================] - 0s 6ms/step - loss: 621.2333 - mean_absolute_error: 19.9354 - val_loss: 720.1044 - val_mean_absolute_error: 20.8913\n",
            "Epoch 31/100\n",
            "16/16 [==============================] - 0s 6ms/step - loss: 626.3870 - mean_absolute_error: 19.9273 - val_loss: 715.5097 - val_mean_absolute_error: 20.7976\n",
            "Epoch 32/100\n",
            "16/16 [==============================] - 0s 6ms/step - loss: 621.6613 - mean_absolute_error: 19.9186 - val_loss: 717.7158 - val_mean_absolute_error: 20.8347\n",
            "Epoch 33/100\n",
            "16/16 [==============================] - 0s 5ms/step - loss: 623.9681 - mean_absolute_error: 19.9339 - val_loss: 715.1166 - val_mean_absolute_error: 20.7796\n",
            "Epoch 34/100\n",
            "16/16 [==============================] - 0s 5ms/step - loss: 623.2689 - mean_absolute_error: 19.9569 - val_loss: 715.1384 - val_mean_absolute_error: 20.7757\n",
            "Epoch 35/100\n",
            "16/16 [==============================] - 0s 5ms/step - loss: 623.6122 - mean_absolute_error: 19.9619 - val_loss: 715.5527 - val_mean_absolute_error: 20.7689\n",
            "Epoch 36/100\n",
            "16/16 [==============================] - 0s 5ms/step - loss: 624.1136 - mean_absolute_error: 19.9704 - val_loss: 714.2736 - val_mean_absolute_error: 20.7737\n",
            "Epoch 37/100\n",
            "16/16 [==============================] - 0s 4ms/step - loss: 626.0053 - mean_absolute_error: 20.0361 - val_loss: 718.2130 - val_mean_absolute_error: 20.8583\n",
            "Epoch 38/100\n",
            "16/16 [==============================] - 0s 5ms/step - loss: 622.1134 - mean_absolute_error: 19.9079 - val_loss: 716.3328 - val_mean_absolute_error: 20.7994\n",
            "Epoch 39/100\n",
            "16/16 [==============================] - 0s 3ms/step - loss: 635.6276 - mean_absolute_error: 20.2179 - val_loss: 717.6262 - val_mean_absolute_error: 20.8436\n",
            "Epoch 40/100\n",
            "16/16 [==============================] - 0s 5ms/step - loss: 623.0606 - mean_absolute_error: 20.0561 - val_loss: 715.7378 - val_mean_absolute_error: 20.8129\n",
            "Epoch 41/100\n",
            "16/16 [==============================] - 0s 4ms/step - loss: 619.5377 - mean_absolute_error: 19.9103 - val_loss: 712.3409 - val_mean_absolute_error: 20.7533\n",
            "Epoch 42/100\n",
            "16/16 [==============================] - 0s 5ms/step - loss: 622.1127 - mean_absolute_error: 19.9574 - val_loss: 713.2983 - val_mean_absolute_error: 20.7528\n",
            "Epoch 43/100\n",
            "16/16 [==============================] - 0s 5ms/step - loss: 618.6163 - mean_absolute_error: 19.9455 - val_loss: 732.6660 - val_mean_absolute_error: 21.1397\n",
            "Epoch 44/100\n",
            "16/16 [==============================] - 0s 4ms/step - loss: 617.6675 - mean_absolute_error: 19.8338 - val_loss: 711.5435 - val_mean_absolute_error: 20.7332\n",
            "Epoch 45/100\n",
            "16/16 [==============================] - 0s 5ms/step - loss: 624.0439 - mean_absolute_error: 19.9607 - val_loss: 715.4854 - val_mean_absolute_error: 20.8367\n",
            "Epoch 46/100\n",
            "16/16 [==============================] - 0s 4ms/step - loss: 620.6271 - mean_absolute_error: 19.9207 - val_loss: 709.4500 - val_mean_absolute_error: 20.7218\n",
            "Epoch 47/100\n",
            "16/16 [==============================] - 0s 5ms/step - loss: 619.4163 - mean_absolute_error: 19.8710 - val_loss: 710.8108 - val_mean_absolute_error: 20.7201\n",
            "Epoch 48/100\n",
            "16/16 [==============================] - 0s 4ms/step - loss: 618.7764 - mean_absolute_error: 19.9607 - val_loss: 715.2957 - val_mean_absolute_error: 20.8237\n",
            "Epoch 49/100\n",
            "16/16 [==============================] - 0s 4ms/step - loss: 623.7946 - mean_absolute_error: 19.9808 - val_loss: 727.0825 - val_mean_absolute_error: 21.0484\n",
            "Epoch 50/100\n",
            "16/16 [==============================] - 0s 5ms/step - loss: 624.1091 - mean_absolute_error: 20.0357 - val_loss: 714.8899 - val_mean_absolute_error: 20.7688\n",
            "Epoch 51/100\n",
            "16/16 [==============================] - 0s 4ms/step - loss: 622.5425 - mean_absolute_error: 20.0187 - val_loss: 719.9047 - val_mean_absolute_error: 20.9298\n",
            "Epoch 52/100\n",
            "16/16 [==============================] - 0s 4ms/step - loss: 616.6747 - mean_absolute_error: 19.8478 - val_loss: 711.0691 - val_mean_absolute_error: 20.7443\n",
            "Epoch 53/100\n",
            "16/16 [==============================] - 0s 4ms/step - loss: 621.1327 - mean_absolute_error: 19.9602 - val_loss: 714.0584 - val_mean_absolute_error: 20.8126\n",
            "Epoch 54/100\n",
            "16/16 [==============================] - 0s 5ms/step - loss: 615.9890 - mean_absolute_error: 19.8393 - val_loss: 709.8731 - val_mean_absolute_error: 20.6944\n",
            "Epoch 55/100\n",
            "16/16 [==============================] - 0s 5ms/step - loss: 619.3929 - mean_absolute_error: 19.8936 - val_loss: 708.3337 - val_mean_absolute_error: 20.7021\n",
            "Epoch 56/100\n",
            "16/16 [==============================] - 0s 5ms/step - loss: 614.3883 - mean_absolute_error: 19.8469 - val_loss: 709.4127 - val_mean_absolute_error: 20.7213\n",
            "Epoch 57/100\n",
            "16/16 [==============================] - 0s 5ms/step - loss: 614.7193 - mean_absolute_error: 19.8813 - val_loss: 712.2206 - val_mean_absolute_error: 20.8005\n",
            "Epoch 58/100\n",
            "16/16 [==============================] - 0s 4ms/step - loss: 622.8106 - mean_absolute_error: 19.9329 - val_loss: 707.6808 - val_mean_absolute_error: 20.6744\n",
            "Epoch 59/100\n",
            "16/16 [==============================] - 0s 4ms/step - loss: 608.9385 - mean_absolute_error: 19.7568 - val_loss: 720.5811 - val_mean_absolute_error: 20.9567\n",
            "Epoch 60/100\n",
            "16/16 [==============================] - 0s 5ms/step - loss: 612.0426 - mean_absolute_error: 19.8252 - val_loss: 708.3837 - val_mean_absolute_error: 20.6845\n",
            "Epoch 61/100\n",
            "16/16 [==============================] - 0s 4ms/step - loss: 612.6187 - mean_absolute_error: 19.8219 - val_loss: 715.5837 - val_mean_absolute_error: 20.8660\n",
            "Epoch 62/100\n",
            "16/16 [==============================] - 0s 4ms/step - loss: 617.1861 - mean_absolute_error: 19.8955 - val_loss: 711.6023 - val_mean_absolute_error: 20.7910\n",
            "Epoch 63/100\n",
            "16/16 [==============================] - 0s 5ms/step - loss: 616.4402 - mean_absolute_error: 19.8684 - val_loss: 713.3862 - val_mean_absolute_error: 20.8319\n",
            "Epoch 64/100\n",
            "16/16 [==============================] - 0s 5ms/step - loss: 623.5304 - mean_absolute_error: 19.8977 - val_loss: 706.8188 - val_mean_absolute_error: 20.6650\n",
            "Epoch 65/100\n",
            "16/16 [==============================] - 0s 4ms/step - loss: 611.5956 - mean_absolute_error: 19.7623 - val_loss: 706.9453 - val_mean_absolute_error: 20.6858\n",
            "Epoch 66/100\n",
            "16/16 [==============================] - 0s 5ms/step - loss: 611.1050 - mean_absolute_error: 19.8163 - val_loss: 707.5910 - val_mean_absolute_error: 20.6926\n",
            "Epoch 67/100\n",
            "16/16 [==============================] - 0s 4ms/step - loss: 626.5328 - mean_absolute_error: 20.1180 - val_loss: 740.7731 - val_mean_absolute_error: 21.2871\n",
            "Epoch 68/100\n",
            "16/16 [==============================] - 0s 5ms/step - loss: 614.6485 - mean_absolute_error: 19.8599 - val_loss: 704.2988 - val_mean_absolute_error: 20.6164\n",
            "Epoch 69/100\n",
            "16/16 [==============================] - 0s 5ms/step - loss: 615.6091 - mean_absolute_error: 19.8462 - val_loss: 706.3004 - val_mean_absolute_error: 20.6469\n",
            "Epoch 70/100\n",
            "16/16 [==============================] - 0s 4ms/step - loss: 615.9037 - mean_absolute_error: 20.0252 - val_loss: 722.0546 - val_mean_absolute_error: 20.9891\n",
            "Epoch 71/100\n",
            "16/16 [==============================] - 0s 4ms/step - loss: 619.9385 - mean_absolute_error: 19.8838 - val_loss: 704.8265 - val_mean_absolute_error: 20.6597\n",
            "Epoch 72/100\n",
            "16/16 [==============================] - 0s 3ms/step - loss: 610.7896 - mean_absolute_error: 19.7888 - val_loss: 705.5969 - val_mean_absolute_error: 20.6292\n",
            "Epoch 73/100\n",
            "16/16 [==============================] - 0s 4ms/step - loss: 618.7687 - mean_absolute_error: 19.8575 - val_loss: 707.7861 - val_mean_absolute_error: 20.7436\n",
            "Epoch 74/100\n",
            "16/16 [==============================] - 0s 4ms/step - loss: 619.0150 - mean_absolute_error: 19.9152 - val_loss: 719.4910 - val_mean_absolute_error: 20.8538\n",
            "Epoch 75/100\n",
            "16/16 [==============================] - 0s 4ms/step - loss: 610.5535 - mean_absolute_error: 19.7648 - val_loss: 709.3494 - val_mean_absolute_error: 20.7929\n",
            "Epoch 76/100\n",
            "16/16 [==============================] - 0s 4ms/step - loss: 607.6344 - mean_absolute_error: 19.7110 - val_loss: 701.4534 - val_mean_absolute_error: 20.6164\n",
            "Epoch 77/100\n",
            "16/16 [==============================] - 0s 4ms/step - loss: 608.0764 - mean_absolute_error: 19.7733 - val_loss: 712.5668 - val_mean_absolute_error: 20.8652\n",
            "Epoch 78/100\n",
            "16/16 [==============================] - 0s 4ms/step - loss: 625.0197 - mean_absolute_error: 19.9075 - val_loss: 704.2094 - val_mean_absolute_error: 20.6430\n",
            "Epoch 79/100\n",
            "16/16 [==============================] - 0s 5ms/step - loss: 614.7140 - mean_absolute_error: 19.7815 - val_loss: 700.0159 - val_mean_absolute_error: 20.5853\n",
            "Epoch 80/100\n",
            "16/16 [==============================] - 0s 4ms/step - loss: 609.0366 - mean_absolute_error: 19.7540 - val_loss: 729.7981 - val_mean_absolute_error: 21.1432\n",
            "Epoch 81/100\n",
            "16/16 [==============================] - 0s 5ms/step - loss: 613.4487 - mean_absolute_error: 19.7437 - val_loss: 707.3675 - val_mean_absolute_error: 20.6744\n",
            "Epoch 82/100\n",
            "16/16 [==============================] - 0s 5ms/step - loss: 614.8297 - mean_absolute_error: 19.8382 - val_loss: 701.8810 - val_mean_absolute_error: 20.6593\n",
            "Epoch 83/100\n",
            "16/16 [==============================] - 0s 5ms/step - loss: 612.5236 - mean_absolute_error: 19.7897 - val_loss: 707.4237 - val_mean_absolute_error: 20.7621\n",
            "Epoch 84/100\n",
            "16/16 [==============================] - 0s 4ms/step - loss: 613.1595 - mean_absolute_error: 19.9237 - val_loss: 716.7123 - val_mean_absolute_error: 20.9343\n",
            "Epoch 85/100\n",
            "16/16 [==============================] - 0s 4ms/step - loss: 603.7267 - mean_absolute_error: 19.6811 - val_loss: 705.1522 - val_mean_absolute_error: 20.6089\n",
            "Epoch 86/100\n",
            "16/16 [==============================] - 0s 5ms/step - loss: 622.1378 - mean_absolute_error: 19.9224 - val_loss: 701.2046 - val_mean_absolute_error: 20.6286\n",
            "Epoch 87/100\n",
            "16/16 [==============================] - 0s 4ms/step - loss: 610.7856 - mean_absolute_error: 19.8207 - val_loss: 704.3622 - val_mean_absolute_error: 20.6994\n",
            "Epoch 88/100\n",
            "16/16 [==============================] - 0s 4ms/step - loss: 610.9094 - mean_absolute_error: 19.7096 - val_loss: 701.0744 - val_mean_absolute_error: 20.5823\n",
            "Epoch 89/100\n",
            "16/16 [==============================] - 0s 5ms/step - loss: 608.4008 - mean_absolute_error: 19.7825 - val_loss: 713.0609 - val_mean_absolute_error: 20.8895\n",
            "Epoch 90/100\n",
            "16/16 [==============================] - 0s 4ms/step - loss: 613.0549 - mean_absolute_error: 19.9530 - val_loss: 704.5956 - val_mean_absolute_error: 20.7285\n",
            "Epoch 91/100\n",
            "16/16 [==============================] - 0s 4ms/step - loss: 610.5127 - mean_absolute_error: 19.7047 - val_loss: 708.6999 - val_mean_absolute_error: 20.8075\n",
            "Epoch 92/100\n",
            "16/16 [==============================] - 0s 4ms/step - loss: 606.8776 - mean_absolute_error: 19.7792 - val_loss: 701.0874 - val_mean_absolute_error: 20.5786\n",
            "Epoch 93/100\n",
            "16/16 [==============================] - 0s 5ms/step - loss: 605.1990 - mean_absolute_error: 19.7027 - val_loss: 716.3404 - val_mean_absolute_error: 20.9483\n",
            "Epoch 94/100\n",
            "16/16 [==============================] - 0s 5ms/step - loss: 606.0262 - mean_absolute_error: 19.7363 - val_loss: 697.4949 - val_mean_absolute_error: 20.6023\n",
            "Epoch 95/100\n",
            "16/16 [==============================] - 0s 4ms/step - loss: 614.8746 - mean_absolute_error: 19.7527 - val_loss: 699.5722 - val_mean_absolute_error: 20.6334\n",
            "Epoch 96/100\n",
            "16/16 [==============================] - 0s 6ms/step - loss: 606.1514 - mean_absolute_error: 19.7336 - val_loss: 697.7754 - val_mean_absolute_error: 20.5847\n",
            "Epoch 97/100\n",
            "16/16 [==============================] - 0s 5ms/step - loss: 603.7473 - mean_absolute_error: 19.7098 - val_loss: 696.4046 - val_mean_absolute_error: 20.5256\n",
            "Epoch 98/100\n",
            "16/16 [==============================] - 0s 5ms/step - loss: 601.4717 - mean_absolute_error: 19.6268 - val_loss: 698.5345 - val_mean_absolute_error: 20.6125\n",
            "Epoch 99/100\n",
            "16/16 [==============================] - 0s 4ms/step - loss: 601.7761 - mean_absolute_error: 19.6530 - val_loss: 695.5700 - val_mean_absolute_error: 20.5187\n",
            "Epoch 100/100\n",
            "16/16 [==============================] - 0s 4ms/step - loss: 602.6428 - mean_absolute_error: 19.6610 - val_loss: 704.3539 - val_mean_absolute_error: 20.7154\n"
          ]
        },
        {
          "output_type": "execute_result",
          "data": {
            "text/plain": [
              "<keras.src.callbacks.History at 0x7e6a7d4c6200>"
            ]
          },
          "metadata": {},
          "execution_count": 32
        }
      ]
    },
    {
      "cell_type": "code",
      "source": [
        "model_1.summary()"
      ],
      "metadata": {
        "colab": {
          "base_uri": "https://localhost:8080/"
        },
        "id": "0KgwickXtcj9",
        "outputId": "89287f4d-1544-43c6-f8a5-5ace5619e5b4"
      },
      "execution_count": null,
      "outputs": [
        {
          "output_type": "stream",
          "name": "stdout",
          "text": [
            "Model: \"sequential_3\"\n",
            "_________________________________________________________________\n",
            " Layer (type)                Output Shape              Param #   \n",
            "=================================================================\n",
            " dense_3 (Dense)             (None, 1)                 6         \n",
            "                                                                 \n",
            "=================================================================\n",
            "Total params: 6 (24.00 Byte)\n",
            "Trainable params: 6 (24.00 Byte)\n",
            "Non-trainable params: 0 (0.00 Byte)\n",
            "_________________________________________________________________\n"
          ]
        }
      ]
    },
    {
      "cell_type": "code",
      "source": [
        "model_2 = Sequential([layers.Input((5,)),\n",
        "                      layers.Dense(32),\n",
        "                      layers.Dense(32),\n",
        "                      layers.Dense(1)])\n",
        "\n",
        "model_2.compile(loss='mse', optimizer=Adam(learning_rate=0.01), metrics=['mean_absolute_error'])\n",
        "\n",
        "model_2.fit(x=X_train, y=y_train, validation_data=(X_val, y_val), epochs=100)"
      ],
      "metadata": {
        "colab": {
          "base_uri": "https://localhost:8080/"
        },
        "id": "7X3LvA8atg9s",
        "outputId": "a3c3217f-c27e-4f84-c84f-2c47d3589c76"
      },
      "execution_count": null,
      "outputs": [
        {
          "output_type": "stream",
          "name": "stdout",
          "text": [
            "Epoch 1/100\n",
            "16/16 [==============================] - 1s 15ms/step - loss: 1783.2778 - mean_absolute_error: 33.7961 - val_loss: 1087.8314 - val_mean_absolute_error: 26.2910\n",
            "Epoch 2/100\n",
            "16/16 [==============================] - 0s 4ms/step - loss: 773.2996 - mean_absolute_error: 21.7068 - val_loss: 817.2656 - val_mean_absolute_error: 22.2229\n",
            "Epoch 3/100\n",
            "16/16 [==============================] - 0s 4ms/step - loss: 693.6707 - mean_absolute_error: 20.9243 - val_loss: 766.6357 - val_mean_absolute_error: 21.4121\n",
            "Epoch 4/100\n",
            "16/16 [==============================] - 0s 4ms/step - loss: 646.5242 - mean_absolute_error: 20.4185 - val_loss: 717.6276 - val_mean_absolute_error: 20.8034\n",
            "Epoch 5/100\n",
            "16/16 [==============================] - 0s 4ms/step - loss: 640.2332 - mean_absolute_error: 20.2920 - val_loss: 756.6440 - val_mean_absolute_error: 21.4699\n",
            "Epoch 6/100\n",
            "16/16 [==============================] - 0s 4ms/step - loss: 713.2478 - mean_absolute_error: 21.4355 - val_loss: 807.3074 - val_mean_absolute_error: 22.1299\n",
            "Epoch 7/100\n",
            "16/16 [==============================] - 0s 5ms/step - loss: 707.3871 - mean_absolute_error: 21.3546 - val_loss: 821.0754 - val_mean_absolute_error: 22.4874\n",
            "Epoch 8/100\n",
            "16/16 [==============================] - 0s 5ms/step - loss: 679.0862 - mean_absolute_error: 20.7185 - val_loss: 858.1882 - val_mean_absolute_error: 23.1267\n",
            "Epoch 9/100\n",
            "16/16 [==============================] - 0s 4ms/step - loss: 747.7531 - mean_absolute_error: 21.6000 - val_loss: 907.1188 - val_mean_absolute_error: 23.6323\n",
            "Epoch 10/100\n",
            "16/16 [==============================] - 0s 5ms/step - loss: 719.2096 - mean_absolute_error: 21.2233 - val_loss: 775.9447 - val_mean_absolute_error: 21.7104\n",
            "Epoch 11/100\n",
            "16/16 [==============================] - 0s 5ms/step - loss: 669.3579 - mean_absolute_error: 20.7409 - val_loss: 710.2961 - val_mean_absolute_error: 20.7504\n",
            "Epoch 12/100\n",
            "16/16 [==============================] - 0s 4ms/step - loss: 657.4465 - mean_absolute_error: 20.5928 - val_loss: 907.7413 - val_mean_absolute_error: 23.7003\n",
            "Epoch 13/100\n",
            "16/16 [==============================] - 0s 4ms/step - loss: 729.8078 - mean_absolute_error: 21.2943 - val_loss: 871.0376 - val_mean_absolute_error: 23.1380\n",
            "Epoch 14/100\n",
            "16/16 [==============================] - 0s 4ms/step - loss: 743.6284 - mean_absolute_error: 21.8166 - val_loss: 794.2890 - val_mean_absolute_error: 21.9505\n",
            "Epoch 15/100\n",
            "16/16 [==============================] - 0s 5ms/step - loss: 641.0189 - mean_absolute_error: 20.2361 - val_loss: 706.5083 - val_mean_absolute_error: 20.6825\n",
            "Epoch 16/100\n",
            "16/16 [==============================] - 0s 4ms/step - loss: 623.8174 - mean_absolute_error: 19.9449 - val_loss: 708.5209 - val_mean_absolute_error: 20.7218\n",
            "Epoch 17/100\n",
            "16/16 [==============================] - 0s 5ms/step - loss: 626.7130 - mean_absolute_error: 20.2558 - val_loss: 763.8759 - val_mean_absolute_error: 21.5445\n",
            "Epoch 18/100\n",
            "16/16 [==============================] - 0s 5ms/step - loss: 633.6993 - mean_absolute_error: 20.1238 - val_loss: 727.4348 - val_mean_absolute_error: 21.1029\n",
            "Epoch 19/100\n",
            "16/16 [==============================] - 0s 5ms/step - loss: 632.7855 - mean_absolute_error: 20.1536 - val_loss: 708.1190 - val_mean_absolute_error: 20.7160\n",
            "Epoch 20/100\n",
            "16/16 [==============================] - 0s 5ms/step - loss: 615.6838 - mean_absolute_error: 19.9332 - val_loss: 719.8011 - val_mean_absolute_error: 21.0777\n",
            "Epoch 21/100\n",
            "16/16 [==============================] - 0s 5ms/step - loss: 658.5538 - mean_absolute_error: 20.3777 - val_loss: 712.6296 - val_mean_absolute_error: 20.6188\n",
            "Epoch 22/100\n",
            "16/16 [==============================] - 0s 4ms/step - loss: 614.5909 - mean_absolute_error: 19.9046 - val_loss: 715.8049 - val_mean_absolute_error: 20.9801\n",
            "Epoch 23/100\n",
            "16/16 [==============================] - 0s 4ms/step - loss: 613.6057 - mean_absolute_error: 19.9460 - val_loss: 726.0557 - val_mean_absolute_error: 20.9684\n",
            "Epoch 24/100\n",
            "16/16 [==============================] - 0s 5ms/step - loss: 619.6938 - mean_absolute_error: 19.9174 - val_loss: 720.0121 - val_mean_absolute_error: 20.9655\n",
            "Epoch 25/100\n",
            "16/16 [==============================] - 0s 5ms/step - loss: 632.0207 - mean_absolute_error: 20.0206 - val_loss: 721.0859 - val_mean_absolute_error: 20.9579\n",
            "Epoch 26/100\n",
            "16/16 [==============================] - 0s 6ms/step - loss: 666.4767 - mean_absolute_error: 20.6739 - val_loss: 786.6732 - val_mean_absolute_error: 21.8622\n",
            "Epoch 27/100\n",
            "16/16 [==============================] - 0s 5ms/step - loss: 623.8760 - mean_absolute_error: 20.1364 - val_loss: 729.6829 - val_mean_absolute_error: 21.0144\n",
            "Epoch 28/100\n",
            "16/16 [==============================] - 0s 5ms/step - loss: 669.2824 - mean_absolute_error: 20.5800 - val_loss: 790.2386 - val_mean_absolute_error: 21.9163\n",
            "Epoch 29/100\n",
            "16/16 [==============================] - 0s 7ms/step - loss: 628.3065 - mean_absolute_error: 20.1386 - val_loss: 696.0362 - val_mean_absolute_error: 20.5299\n",
            "Epoch 30/100\n",
            "16/16 [==============================] - 0s 6ms/step - loss: 606.5790 - mean_absolute_error: 19.7313 - val_loss: 701.4817 - val_mean_absolute_error: 20.6273\n",
            "Epoch 31/100\n",
            "16/16 [==============================] - 0s 5ms/step - loss: 620.0771 - mean_absolute_error: 20.0686 - val_loss: 776.7072 - val_mean_absolute_error: 21.7239\n",
            "Epoch 32/100\n",
            "16/16 [==============================] - 0s 6ms/step - loss: 663.5435 - mean_absolute_error: 20.5993 - val_loss: 691.0151 - val_mean_absolute_error: 20.5379\n",
            "Epoch 33/100\n",
            "16/16 [==============================] - 0s 6ms/step - loss: 615.6240 - mean_absolute_error: 19.8816 - val_loss: 736.0328 - val_mean_absolute_error: 21.2081\n",
            "Epoch 34/100\n",
            "16/16 [==============================] - 0s 5ms/step - loss: 677.4915 - mean_absolute_error: 20.7653 - val_loss: 1034.6351 - val_mean_absolute_error: 25.4684\n",
            "Epoch 35/100\n",
            "16/16 [==============================] - 0s 5ms/step - loss: 661.0197 - mean_absolute_error: 21.0495 - val_loss: 727.3580 - val_mean_absolute_error: 21.0928\n",
            "Epoch 36/100\n",
            "16/16 [==============================] - 0s 6ms/step - loss: 627.7745 - mean_absolute_error: 19.8622 - val_loss: 713.2904 - val_mean_absolute_error: 20.9126\n",
            "Epoch 37/100\n",
            "16/16 [==============================] - 0s 7ms/step - loss: 626.2080 - mean_absolute_error: 20.1455 - val_loss: 693.0570 - val_mean_absolute_error: 20.4349\n",
            "Epoch 38/100\n",
            "16/16 [==============================] - 0s 6ms/step - loss: 606.3016 - mean_absolute_error: 19.7548 - val_loss: 682.0286 - val_mean_absolute_error: 20.3875\n",
            "Epoch 39/100\n",
            "16/16 [==============================] - 0s 6ms/step - loss: 604.3044 - mean_absolute_error: 19.6107 - val_loss: 709.1637 - val_mean_absolute_error: 20.8022\n",
            "Epoch 40/100\n",
            "16/16 [==============================] - 0s 6ms/step - loss: 618.8738 - mean_absolute_error: 19.9082 - val_loss: 714.6511 - val_mean_absolute_error: 21.0097\n",
            "Epoch 41/100\n",
            "16/16 [==============================] - 0s 6ms/step - loss: 617.1578 - mean_absolute_error: 19.7480 - val_loss: 778.3898 - val_mean_absolute_error: 21.7197\n",
            "Epoch 42/100\n",
            "16/16 [==============================] - 0s 6ms/step - loss: 607.5827 - mean_absolute_error: 19.8419 - val_loss: 740.7905 - val_mean_absolute_error: 21.3710\n",
            "Epoch 43/100\n",
            "16/16 [==============================] - 0s 6ms/step - loss: 637.6635 - mean_absolute_error: 20.2801 - val_loss: 903.8539 - val_mean_absolute_error: 23.4900\n",
            "Epoch 44/100\n",
            "16/16 [==============================] - 0s 5ms/step - loss: 720.4669 - mean_absolute_error: 21.4408 - val_loss: 684.5695 - val_mean_absolute_error: 20.6774\n",
            "Epoch 45/100\n",
            "16/16 [==============================] - 0s 5ms/step - loss: 662.4276 - mean_absolute_error: 20.4237 - val_loss: 810.5607 - val_mean_absolute_error: 22.1963\n",
            "Epoch 46/100\n",
            "16/16 [==============================] - 0s 6ms/step - loss: 642.4416 - mean_absolute_error: 20.2825 - val_loss: 786.7953 - val_mean_absolute_error: 21.7788\n",
            "Epoch 47/100\n",
            "16/16 [==============================] - 0s 6ms/step - loss: 631.7549 - mean_absolute_error: 19.7338 - val_loss: 680.5488 - val_mean_absolute_error: 20.3805\n",
            "Epoch 48/100\n",
            "16/16 [==============================] - 0s 7ms/step - loss: 635.1057 - mean_absolute_error: 20.1157 - val_loss: 741.9635 - val_mean_absolute_error: 21.3703\n",
            "Epoch 49/100\n",
            "16/16 [==============================] - 0s 6ms/step - loss: 627.9560 - mean_absolute_error: 20.0543 - val_loss: 741.4475 - val_mean_absolute_error: 21.2980\n",
            "Epoch 50/100\n",
            "16/16 [==============================] - 0s 6ms/step - loss: 591.2112 - mean_absolute_error: 19.5141 - val_loss: 717.1922 - val_mean_absolute_error: 20.7945\n",
            "Epoch 51/100\n",
            "16/16 [==============================] - 0s 7ms/step - loss: 605.1089 - mean_absolute_error: 19.7735 - val_loss: 677.2737 - val_mean_absolute_error: 20.3317\n",
            "Epoch 52/100\n",
            "16/16 [==============================] - 0s 5ms/step - loss: 601.4722 - mean_absolute_error: 19.5589 - val_loss: 710.4979 - val_mean_absolute_error: 20.8169\n",
            "Epoch 53/100\n",
            "16/16 [==============================] - 0s 6ms/step - loss: 597.6748 - mean_absolute_error: 19.5392 - val_loss: 686.0929 - val_mean_absolute_error: 20.5187\n",
            "Epoch 54/100\n",
            "16/16 [==============================] - 0s 6ms/step - loss: 614.0590 - mean_absolute_error: 19.8798 - val_loss: 715.8592 - val_mean_absolute_error: 20.8067\n",
            "Epoch 55/100\n",
            "16/16 [==============================] - 0s 6ms/step - loss: 600.7466 - mean_absolute_error: 19.7285 - val_loss: 683.8654 - val_mean_absolute_error: 20.3650\n",
            "Epoch 56/100\n",
            "16/16 [==============================] - 0s 6ms/step - loss: 616.4856 - mean_absolute_error: 19.7503 - val_loss: 695.5112 - val_mean_absolute_error: 20.5350\n",
            "Epoch 57/100\n",
            "16/16 [==============================] - 0s 7ms/step - loss: 666.6192 - mean_absolute_error: 20.2816 - val_loss: 685.7999 - val_mean_absolute_error: 20.4397\n",
            "Epoch 58/100\n",
            "16/16 [==============================] - 0s 6ms/step - loss: 653.2834 - mean_absolute_error: 20.1752 - val_loss: 724.0389 - val_mean_absolute_error: 21.0277\n",
            "Epoch 59/100\n",
            "16/16 [==============================] - 0s 6ms/step - loss: 640.0784 - mean_absolute_error: 19.8813 - val_loss: 832.6510 - val_mean_absolute_error: 22.5044\n",
            "Epoch 60/100\n",
            "16/16 [==============================] - 0s 8ms/step - loss: 628.1304 - mean_absolute_error: 20.0499 - val_loss: 711.7647 - val_mean_absolute_error: 20.9350\n",
            "Epoch 61/100\n",
            "16/16 [==============================] - 0s 6ms/step - loss: 587.4031 - mean_absolute_error: 19.1190 - val_loss: 677.9576 - val_mean_absolute_error: 20.2243\n",
            "Epoch 62/100\n",
            "16/16 [==============================] - 0s 7ms/step - loss: 601.3322 - mean_absolute_error: 19.7090 - val_loss: 674.6961 - val_mean_absolute_error: 20.4036\n",
            "Epoch 63/100\n",
            "16/16 [==============================] - 0s 5ms/step - loss: 589.2472 - mean_absolute_error: 19.2508 - val_loss: 678.0510 - val_mean_absolute_error: 20.3930\n",
            "Epoch 64/100\n",
            "16/16 [==============================] - 0s 5ms/step - loss: 584.3115 - mean_absolute_error: 19.2784 - val_loss: 673.6938 - val_mean_absolute_error: 20.3826\n",
            "Epoch 65/100\n",
            "16/16 [==============================] - 0s 4ms/step - loss: 581.0341 - mean_absolute_error: 19.2502 - val_loss: 680.0022 - val_mean_absolute_error: 20.2903\n",
            "Epoch 66/100\n",
            "16/16 [==============================] - 0s 4ms/step - loss: 580.1384 - mean_absolute_error: 19.3160 - val_loss: 677.3485 - val_mean_absolute_error: 20.4893\n",
            "Epoch 67/100\n",
            "16/16 [==============================] - 0s 4ms/step - loss: 580.7512 - mean_absolute_error: 19.2527 - val_loss: 669.4058 - val_mean_absolute_error: 20.3236\n",
            "Epoch 68/100\n",
            "16/16 [==============================] - 0s 5ms/step - loss: 584.6115 - mean_absolute_error: 19.3144 - val_loss: 685.6869 - val_mean_absolute_error: 20.6124\n",
            "Epoch 69/100\n",
            "16/16 [==============================] - 0s 5ms/step - loss: 593.0472 - mean_absolute_error: 19.4414 - val_loss: 713.0593 - val_mean_absolute_error: 20.9383\n",
            "Epoch 70/100\n",
            "16/16 [==============================] - 0s 5ms/step - loss: 591.5653 - mean_absolute_error: 19.4848 - val_loss: 684.9655 - val_mean_absolute_error: 20.5800\n",
            "Epoch 71/100\n",
            "16/16 [==============================] - 0s 5ms/step - loss: 586.4818 - mean_absolute_error: 19.4392 - val_loss: 671.2437 - val_mean_absolute_error: 20.3832\n",
            "Epoch 72/100\n",
            "16/16 [==============================] - 0s 5ms/step - loss: 614.9131 - mean_absolute_error: 19.7326 - val_loss: 804.2482 - val_mean_absolute_error: 22.0668\n",
            "Epoch 73/100\n",
            "16/16 [==============================] - 0s 5ms/step - loss: 618.7969 - mean_absolute_error: 19.5287 - val_loss: 704.4095 - val_mean_absolute_error: 20.7479\n",
            "Epoch 74/100\n",
            "16/16 [==============================] - 0s 5ms/step - loss: 588.8771 - mean_absolute_error: 19.4769 - val_loss: 677.6176 - val_mean_absolute_error: 20.5331\n",
            "Epoch 75/100\n",
            "16/16 [==============================] - 0s 4ms/step - loss: 576.4691 - mean_absolute_error: 19.0921 - val_loss: 673.4277 - val_mean_absolute_error: 20.2331\n",
            "Epoch 76/100\n",
            "16/16 [==============================] - 0s 4ms/step - loss: 571.3683 - mean_absolute_error: 19.1397 - val_loss: 694.9036 - val_mean_absolute_error: 20.4667\n",
            "Epoch 77/100\n",
            "16/16 [==============================] - 0s 5ms/step - loss: 600.2222 - mean_absolute_error: 19.5356 - val_loss: 658.1607 - val_mean_absolute_error: 20.1407\n",
            "Epoch 78/100\n",
            "16/16 [==============================] - 0s 5ms/step - loss: 578.2310 - mean_absolute_error: 19.1152 - val_loss: 688.6015 - val_mean_absolute_error: 20.6558\n",
            "Epoch 79/100\n",
            "16/16 [==============================] - 0s 4ms/step - loss: 583.9716 - mean_absolute_error: 19.4513 - val_loss: 657.6278 - val_mean_absolute_error: 20.1838\n",
            "Epoch 80/100\n",
            "16/16 [==============================] - 0s 4ms/step - loss: 565.9193 - mean_absolute_error: 19.0728 - val_loss: 666.0012 - val_mean_absolute_error: 20.1799\n",
            "Epoch 81/100\n",
            "16/16 [==============================] - 0s 5ms/step - loss: 570.3097 - mean_absolute_error: 18.9976 - val_loss: 661.9963 - val_mean_absolute_error: 20.3451\n",
            "Epoch 82/100\n",
            "16/16 [==============================] - 0s 4ms/step - loss: 566.6820 - mean_absolute_error: 18.9513 - val_loss: 679.7136 - val_mean_absolute_error: 20.5362\n",
            "Epoch 83/100\n",
            "16/16 [==============================] - 0s 4ms/step - loss: 599.0704 - mean_absolute_error: 19.6626 - val_loss: 681.6579 - val_mean_absolute_error: 20.5485\n",
            "Epoch 84/100\n",
            "16/16 [==============================] - 0s 4ms/step - loss: 590.6913 - mean_absolute_error: 19.2933 - val_loss: 656.2935 - val_mean_absolute_error: 20.1529\n",
            "Epoch 85/100\n",
            "16/16 [==============================] - 0s 4ms/step - loss: 570.3752 - mean_absolute_error: 19.1303 - val_loss: 697.7811 - val_mean_absolute_error: 20.7869\n",
            "Epoch 86/100\n",
            "16/16 [==============================] - 0s 5ms/step - loss: 570.6021 - mean_absolute_error: 18.9239 - val_loss: 653.7649 - val_mean_absolute_error: 20.0533\n",
            "Epoch 87/100\n",
            "16/16 [==============================] - 0s 5ms/step - loss: 573.1049 - mean_absolute_error: 19.1468 - val_loss: 657.9865 - val_mean_absolute_error: 20.2193\n",
            "Epoch 88/100\n",
            "16/16 [==============================] - 0s 4ms/step - loss: 568.9684 - mean_absolute_error: 19.0861 - val_loss: 679.3847 - val_mean_absolute_error: 20.6006\n",
            "Epoch 89/100\n",
            "16/16 [==============================] - 0s 5ms/step - loss: 570.5400 - mean_absolute_error: 19.1678 - val_loss: 654.7662 - val_mean_absolute_error: 20.0830\n",
            "Epoch 90/100\n",
            "16/16 [==============================] - 0s 5ms/step - loss: 564.9195 - mean_absolute_error: 19.1767 - val_loss: 656.2130 - val_mean_absolute_error: 20.0837\n",
            "Epoch 91/100\n",
            "16/16 [==============================] - 0s 5ms/step - loss: 574.4321 - mean_absolute_error: 19.1134 - val_loss: 652.4617 - val_mean_absolute_error: 20.2361\n",
            "Epoch 92/100\n",
            "16/16 [==============================] - 0s 5ms/step - loss: 562.4946 - mean_absolute_error: 19.1047 - val_loss: 676.7308 - val_mean_absolute_error: 20.2440\n",
            "Epoch 93/100\n",
            "16/16 [==============================] - 0s 4ms/step - loss: 582.8325 - mean_absolute_error: 19.2272 - val_loss: 641.5299 - val_mean_absolute_error: 20.1319\n",
            "Epoch 94/100\n",
            "16/16 [==============================] - 0s 4ms/step - loss: 560.6860 - mean_absolute_error: 18.8824 - val_loss: 668.1265 - val_mean_absolute_error: 20.4169\n",
            "Epoch 95/100\n",
            "16/16 [==============================] - 0s 4ms/step - loss: 564.9667 - mean_absolute_error: 19.0574 - val_loss: 645.5822 - val_mean_absolute_error: 20.0457\n",
            "Epoch 96/100\n",
            "16/16 [==============================] - 0s 6ms/step - loss: 561.8244 - mean_absolute_error: 18.9087 - val_loss: 643.1321 - val_mean_absolute_error: 20.0906\n",
            "Epoch 97/100\n",
            "16/16 [==============================] - 0s 4ms/step - loss: 597.8625 - mean_absolute_error: 19.3672 - val_loss: 709.6234 - val_mean_absolute_error: 20.9619\n",
            "Epoch 98/100\n",
            "16/16 [==============================] - 0s 4ms/step - loss: 600.2880 - mean_absolute_error: 19.9106 - val_loss: 672.9003 - val_mean_absolute_error: 20.3254\n",
            "Epoch 99/100\n",
            "16/16 [==============================] - 0s 4ms/step - loss: 565.2734 - mean_absolute_error: 19.0528 - val_loss: 689.0571 - val_mean_absolute_error: 20.6463\n",
            "Epoch 100/100\n",
            "16/16 [==============================] - 0s 5ms/step - loss: 580.0303 - mean_absolute_error: 19.4570 - val_loss: 652.9222 - val_mean_absolute_error: 20.0496\n"
          ]
        },
        {
          "output_type": "execute_result",
          "data": {
            "text/plain": [
              "<keras.src.callbacks.History at 0x7e6a7d2d2b90>"
            ]
          },
          "metadata": {},
          "execution_count": 33
        }
      ]
    },
    {
      "cell_type": "code",
      "source": [
        "model_2.summary()"
      ],
      "metadata": {
        "colab": {
          "base_uri": "https://localhost:8080/"
        },
        "id": "E8P4IPwStqQM",
        "outputId": "f6db5a2a-a979-4b8d-d371-ad803b87ced6"
      },
      "execution_count": null,
      "outputs": [
        {
          "output_type": "stream",
          "name": "stdout",
          "text": [
            "Model: \"sequential_4\"\n",
            "_________________________________________________________________\n",
            " Layer (type)                Output Shape              Param #   \n",
            "=================================================================\n",
            " dense_4 (Dense)             (None, 32)                192       \n",
            "                                                                 \n",
            " dense_5 (Dense)             (None, 32)                1056      \n",
            "                                                                 \n",
            " dense_6 (Dense)             (None, 1)                 33        \n",
            "                                                                 \n",
            "=================================================================\n",
            "Total params: 1281 (5.00 KB)\n",
            "Trainable params: 1281 (5.00 KB)\n",
            "Non-trainable params: 0 (0.00 Byte)\n",
            "_________________________________________________________________\n"
          ]
        }
      ]
    },
    {
      "cell_type": "markdown",
      "source": [
        "# **Evaluate the Chosen Model**"
      ],
      "metadata": {
        "id": "suI1BsTluTeE"
      }
    },
    {
      "cell_type": "code",
      "source": [
        "mean_absolute_error(y_test, linear_model.predict(X_test))"
      ],
      "metadata": {
        "colab": {
          "base_uri": "https://localhost:8080/"
        },
        "id": "0x8EIOo_tsX2",
        "outputId": "9c1f4efd-9983-495c-dbb9-006ec95f1f43"
      },
      "execution_count": null,
      "outputs": [
        {
          "output_type": "execute_result",
          "data": {
            "text/plain": [
              "19.06562139534031"
            ]
          },
          "metadata": {},
          "execution_count": 34
        }
      ]
    },
    {
      "cell_type": "code",
      "source": [],
      "metadata": {
        "id": "r3IpVPL5uoYJ"
      },
      "execution_count": null,
      "outputs": []
    }
  ]
}